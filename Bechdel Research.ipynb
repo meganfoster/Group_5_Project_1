{
 "cells": [
  {
   "cell_type": "code",
   "execution_count": 3,
   "metadata": {},
   "outputs": [
    {
     "name": "stdout",
     "output_type": "stream",
     "text": [
      "[{'date': '2015-08-04 04:13:27',\n",
      "  'dubious': '0',\n",
      "  'id': 6389,\n",
      "  'imdbid': '2381249',\n",
      "  'rating': 0,\n",
      "  'submitterid': 12424,\n",
      "  'title': 'Mission: Impossible - Rogue Nation',\n",
      "  'visible': '1',\n",
      "  'year': 2015},\n",
      " {'date': '2011-12-31 09:27:32',\n",
      "  'dubious': '0',\n",
      "  'id': 2967,\n",
      "  'imdbid': '1229238',\n",
      "  'rating': 1,\n",
      "  'submitterid': 4582,\n",
      "  'title': 'Mission: Impossible - Ghost Protocol',\n",
      "  'visible': '1',\n",
      "  'year': 2011},\n",
      " {'date': '2014-06-30 05:05:16',\n",
      "  'dubious': '0',\n",
      "  'id': 5606,\n",
      "  'imdbid': '0317919',\n",
      "  'rating': 1,\n",
      "  'submitterid': 10467,\n",
      "  'title': 'Mission: Impossible III',\n",
      "  'visible': '1',\n",
      "  'year': 2006},\n",
      " {'date': '2014-06-30 04:30:37',\n",
      "  'dubious': '0',\n",
      "  'id': 5605,\n",
      "  'imdbid': '0120755',\n",
      "  'rating': 0,\n",
      "  'submitterid': 10466,\n",
      "  'title': 'Mission: Impossible II',\n",
      "  'visible': '1',\n",
      "  'year': 2000},\n",
      " {'date': '2009-08-11 09:39:09',\n",
      "  'dubious': '0',\n",
      "  'id': 445,\n",
      "  'imdbid': '0117060',\n",
      "  'rating': 1,\n",
      "  'submitterid': 114,\n",
      "  'title': 'Mission: Impossible',\n",
      "  'visible': '1',\n",
      "  'year': 1996}]\n"
     ]
    }
   ],
   "source": [
    "# Dependencies\n",
    "import requests\n",
    "from pprint import pprint\n",
    "\n",
    "url = \"http://bechdeltest.com/api/v1/getMoviesByTitle?title=\"\n",
    "\n",
    "# Search for articles that mention granola\n",
    "movie = \"mission: impossible\"\n",
    "\n",
    "# Build query URL\n",
    "query_url = url + movie\n",
    "\n",
    "# Request articles\n",
    "movie_request = requests.get(query_url).json()\n",
    "\n",
    "# The \"response\" property in articles contains the actual articles\n",
    "# list comprehension.\n",
    "pprint(movie_request)"
   ]
  },
  {
   "cell_type": "code",
   "execution_count": null,
   "metadata": {},
   "outputs": [],
   "source": []
  }
 ],
 "metadata": {
  "kernelspec": {
   "display_name": "Python 3",
   "language": "python",
   "name": "python3"
  },
  "language_info": {
   "codemirror_mode": {
    "name": "ipython",
    "version": 3
   },
   "file_extension": ".py",
   "mimetype": "text/x-python",
   "name": "python",
   "nbconvert_exporter": "python",
   "pygments_lexer": "ipython3",
   "version": "3.7.6"
  }
 },
 "nbformat": 4,
 "nbformat_minor": 4
}
