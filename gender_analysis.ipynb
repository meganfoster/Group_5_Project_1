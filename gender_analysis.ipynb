{
 "cells": [
  {
   "cell_type": "code",
   "execution_count": 1,
   "metadata": {},
   "outputs": [],
   "source": [
    "#dependencies\n",
    "import requests\n",
    "from pprint import pprint\n",
    "import os\n",
    "import csv\n",
    "import pandas as pd\n",
    "import numpy as np\n",
    "import matplotlib.pyplot as plt"
   ]
  },
  {
   "cell_type": "code",
   "execution_count": 2,
   "metadata": {
    "scrolled": false
   },
   "outputs": [
    {
     "data": {
      "text/html": [
       "<div>\n",
       "<style scoped>\n",
       "    .dataframe tbody tr th:only-of-type {\n",
       "        vertical-align: middle;\n",
       "    }\n",
       "\n",
       "    .dataframe tbody tr th {\n",
       "        vertical-align: top;\n",
       "    }\n",
       "\n",
       "    .dataframe thead th {\n",
       "        text-align: right;\n",
       "    }\n",
       "</style>\n",
       "<table border=\"1\" class=\"dataframe\">\n",
       "  <thead>\n",
       "    <tr style=\"text-align: right;\">\n",
       "      <th></th>\n",
       "      <th>Year</th>\n",
       "      <th>Movie Title</th>\n",
       "      <th>Actor</th>\n",
       "      <th>Gender</th>\n",
       "      <th>Race</th>\n",
       "      <th>Type</th>\n",
       "    </tr>\n",
       "  </thead>\n",
       "  <tbody>\n",
       "    <tr>\n",
       "      <th>0</th>\n",
       "      <td>1927</td>\n",
       "      <td>Wings</td>\n",
       "      <td>Clara Bow</td>\n",
       "      <td>Female</td>\n",
       "      <td>White</td>\n",
       "      <td>Academy Award Films</td>\n",
       "    </tr>\n",
       "    <tr>\n",
       "      <th>1</th>\n",
       "      <td>1927</td>\n",
       "      <td>Wings</td>\n",
       "      <td>Charles 'Buddy' Rogers</td>\n",
       "      <td>Male</td>\n",
       "      <td>White</td>\n",
       "      <td>Academy Award Films</td>\n",
       "    </tr>\n",
       "    <tr>\n",
       "      <th>2</th>\n",
       "      <td>1927</td>\n",
       "      <td>Wings</td>\n",
       "      <td>Richard Arlen</td>\n",
       "      <td>Male</td>\n",
       "      <td>White</td>\n",
       "      <td>Academy Award Films</td>\n",
       "    </tr>\n",
       "    <tr>\n",
       "      <th>3</th>\n",
       "      <td>1927</td>\n",
       "      <td>Wings</td>\n",
       "      <td>Jobyna Ralston</td>\n",
       "      <td>Female</td>\n",
       "      <td>White</td>\n",
       "      <td>Academy Award Films</td>\n",
       "    </tr>\n",
       "    <tr>\n",
       "      <th>4</th>\n",
       "      <td>1928</td>\n",
       "      <td>The Broadway Melody</td>\n",
       "      <td>Charles King</td>\n",
       "      <td>Male</td>\n",
       "      <td>White</td>\n",
       "      <td>Academy Award Films</td>\n",
       "    </tr>\n",
       "  </tbody>\n",
       "</table>\n",
       "</div>"
      ],
      "text/plain": [
       "   Year          Movie Title                    Actor  Gender   Race  \\\n",
       "0  1927                Wings                Clara Bow  Female  White   \n",
       "1  1927                Wings   Charles 'Buddy' Rogers    Male  White   \n",
       "2  1927                Wings            Richard Arlen    Male  White   \n",
       "3  1927                Wings           Jobyna Ralston  Female  White   \n",
       "4  1928  The Broadway Melody             Charles King    Male  White   \n",
       "\n",
       "                  Type  \n",
       "0  Academy Award Films  \n",
       "1  Academy Award Films  \n",
       "2  Academy Award Films  \n",
       "3  Academy Award Films  \n",
       "4  Academy Award Films  "
      ]
     },
     "execution_count": 2,
     "metadata": {},
     "output_type": "execute_result"
    }
   ],
   "source": [
    "#reading the academy award winning gender race csv \n",
    "award_gender_csv = 'Output/award_winning_gender_race.csv'\n",
    "award_gender_df = pd.read_csv(award_gender_csv)\n",
    "\n",
    "#adding a Type column to identify this dataframe when we merge below\n",
    "award_gender_df['Type'] = 'Academy Award Films'\n",
    "award_gender_df.head()"
   ]
  },
  {
   "cell_type": "code",
   "execution_count": 3,
   "metadata": {},
   "outputs": [
    {
     "data": {
      "image/png": "[encoded data removed]",
      "text/plain": [
       "<Figure size 432x288 with 1 Axes>"
      ]
     },
     "metadata": {},
     "output_type": "display_data"
    }
   ],
   "source": [
    "#plotting the pie chart for best picture gender percentages\n",
    "award_gender_pie = award_gender_df[\"Gender\"].value_counts()\n",
    "\n",
    "colors = ['lightskyblue', 'coral']\n",
    "explode = (0, 0.15)\n",
    "\n",
    "award_gender_pie.plot(kind=\"pie\",autopct=\"%1.1f%%\", explode=explode, colors=colors,shadow=True, startangle=90)\n",
    "\n",
    "plt.title(\"Best Picture Gender Ratio\")\n",
    "plt.axis(\"equal\")\n",
    "\n",
    "#saving figure to png file and showing in notebook\n",
    "plt.savefig(\"Images/Award_Gender.png\")\n",
    "\n",
    "plt.show()"
   ]
  },
  {
   "cell_type": "code",
   "execution_count": 4,
   "metadata": {
    "scrolled": true
   },
   "outputs": [
    {
     "data": {
      "text/html": [
       "<div>\n",
       "<style scoped>\n",
       "    .dataframe tbody tr th:only-of-type {\n",
       "        vertical-align: middle;\n",
       "    }\n",
       "\n",
       "    .dataframe tbody tr th {\n",
       "        vertical-align: top;\n",
       "    }\n",
       "\n",
       "    .dataframe thead th {\n",
       "        text-align: right;\n",
       "    }\n",
       "</style>\n",
       "<table border=\"1\" class=\"dataframe\">\n",
       "  <thead>\n",
       "    <tr style=\"text-align: right;\">\n",
       "      <th></th>\n",
       "      <th>Year</th>\n",
       "      <th>Movie Title</th>\n",
       "      <th>Actor</th>\n",
       "      <th>Gender</th>\n",
       "      <th>Race</th>\n",
       "      <th>Type</th>\n",
       "    </tr>\n",
       "  </thead>\n",
       "  <tbody>\n",
       "    <tr>\n",
       "      <th>0</th>\n",
       "      <td>1927</td>\n",
       "      <td>The Battles of the Coronel and Falkland Islands</td>\n",
       "      <td>Roger Maxwell</td>\n",
       "      <td>Male</td>\n",
       "      <td>White</td>\n",
       "      <td>Top Grossing Films</td>\n",
       "    </tr>\n",
       "    <tr>\n",
       "      <th>1</th>\n",
       "      <td>1927</td>\n",
       "      <td>The Battles of the Coronel and Falkland Islands</td>\n",
       "      <td>Craighall Sherry</td>\n",
       "      <td>Male</td>\n",
       "      <td>White</td>\n",
       "      <td>Top Grossing Films</td>\n",
       "    </tr>\n",
       "    <tr>\n",
       "      <th>2</th>\n",
       "      <td>1927</td>\n",
       "      <td>The Battles of the Coronel and Falkland Islands</td>\n",
       "      <td>Hans von Slock</td>\n",
       "      <td>Male</td>\n",
       "      <td>White</td>\n",
       "      <td>Top Grossing Films</td>\n",
       "    </tr>\n",
       "    <tr>\n",
       "      <th>3</th>\n",
       "      <td>1928</td>\n",
       "      <td>Lights of New York</td>\n",
       "      <td>Helene Costello</td>\n",
       "      <td>Female</td>\n",
       "      <td>White</td>\n",
       "      <td>Top Grossing Films</td>\n",
       "    </tr>\n",
       "    <tr>\n",
       "      <th>4</th>\n",
       "      <td>1928</td>\n",
       "      <td>Lights of New York</td>\n",
       "      <td>Cullen Landis</td>\n",
       "      <td>Male</td>\n",
       "      <td>White</td>\n",
       "      <td>Top Grossing Films</td>\n",
       "    </tr>\n",
       "  </tbody>\n",
       "</table>\n",
       "</div>"
      ],
      "text/plain": [
       "   Year                                      Movie Title             Actor  \\\n",
       "0  1927  The Battles of the Coronel and Falkland Islands     Roger Maxwell   \n",
       "1  1927  The Battles of the Coronel and Falkland Islands  Craighall Sherry   \n",
       "2  1927  The Battles of the Coronel and Falkland Islands    Hans von Slock   \n",
       "3  1928                               Lights of New York   Helene Costello   \n",
       "4  1928                               Lights of New York     Cullen Landis   \n",
       "\n",
       "   Gender   Race                Type  \n",
       "0    Male  White  Top Grossing Films  \n",
       "1    Male  White  Top Grossing Films  \n",
       "2    Male  White  Top Grossing Films  \n",
       "3  Female  White  Top Grossing Films  \n",
       "4    Male  White  Top Grossing Films  "
      ]
     },
     "execution_count": 4,
     "metadata": {},
     "output_type": "execute_result"
    }
   ],
   "source": [
    "#reading the top grossing gender race csv \n",
    "topgrossing_gender_csv = 'Output/top_grossing_film_gender_race.csv'\n",
    "topgrossing_gender_df = pd.read_csv(topgrossing_gender_csv)\n",
    "\n",
    "#renaming column Actors to Actor\n",
    "topgrossing_gender_df = topgrossing_gender_df.rename(columns = {\"Actors\" : \"Actor\"})\n",
    "\n",
    "#adding a Type column to identify this dataframe when we merge below\n",
    "topgrossing_gender_df['Type'] = \"Top Grossing Films\"\n",
    "topgrossing_gender_df.head()"
   ]
  },
  {
   "cell_type": "code",
   "execution_count": 5,
   "metadata": {},
   "outputs": [
    {
     "data": {
      "image/png": "[encoded data removed]",
      "text/plain": [
       "<Figure size 432x288 with 1 Axes>"
      ]
     },
     "metadata": {},
     "output_type": "display_data"
    }
   ],
   "source": [
    "#plotting the pie chart for top grossing films gender percentages\n",
    "topgrossing_gender_pie = topgrossing_gender_df[\"Gender\"].value_counts()\n",
    "\n",
    "colors = ['lightskyblue', 'coral']\n",
    "explode = (0, 0.15)\n",
    "\n",
    "topgrossing_gender_pie.plot(kind=\"pie\",autopct=\"%1.1f%%\", explode=explode, colors=colors,shadow=True, startangle=90)\n",
    "\n",
    "plt.title(\"Top Grossing Gender Ratio\")\n",
    "plt.axis(\"equal\")\n",
    "\n",
    "#saving figure to png file and showing in notebook\n",
    "plt.savefig(\"Images/TopGrossing_Gender.png\")\n",
    "\n",
    "plt.show()"
   ]
  },
  {
   "cell_type": "code",
   "execution_count": 6,
   "metadata": {
    "scrolled": true
   },
   "outputs": [
    {
     "data": {
      "text/html": [
       "<div>\n",
       "<style scoped>\n",
       "    .dataframe tbody tr th:only-of-type {\n",
       "        vertical-align: middle;\n",
       "    }\n",
       "\n",
       "    .dataframe tbody tr th {\n",
       "        vertical-align: top;\n",
       "    }\n",
       "\n",
       "    .dataframe thead th {\n",
       "        text-align: right;\n",
       "    }\n",
       "</style>\n",
       "<table border=\"1\" class=\"dataframe\">\n",
       "  <thead>\n",
       "    <tr style=\"text-align: right;\">\n",
       "      <th></th>\n",
       "      <th>Year</th>\n",
       "      <th>Movie Title</th>\n",
       "      <th>Actor</th>\n",
       "      <th>Gender</th>\n",
       "      <th>Race</th>\n",
       "      <th>Type</th>\n",
       "    </tr>\n",
       "  </thead>\n",
       "  <tbody>\n",
       "    <tr>\n",
       "      <th>0</th>\n",
       "      <td>1927</td>\n",
       "      <td>Wings</td>\n",
       "      <td>Clara Bow</td>\n",
       "      <td>Female</td>\n",
       "      <td>White</td>\n",
       "      <td>Academy Award Films</td>\n",
       "    </tr>\n",
       "    <tr>\n",
       "      <th>1</th>\n",
       "      <td>1927</td>\n",
       "      <td>Wings</td>\n",
       "      <td>Charles 'Buddy' Rogers</td>\n",
       "      <td>Male</td>\n",
       "      <td>White</td>\n",
       "      <td>Academy Award Films</td>\n",
       "    </tr>\n",
       "    <tr>\n",
       "      <th>2</th>\n",
       "      <td>1927</td>\n",
       "      <td>Wings</td>\n",
       "      <td>Richard Arlen</td>\n",
       "      <td>Male</td>\n",
       "      <td>White</td>\n",
       "      <td>Academy Award Films</td>\n",
       "    </tr>\n",
       "    <tr>\n",
       "      <th>3</th>\n",
       "      <td>1927</td>\n",
       "      <td>Wings</td>\n",
       "      <td>Jobyna Ralston</td>\n",
       "      <td>Female</td>\n",
       "      <td>White</td>\n",
       "      <td>Academy Award Films</td>\n",
       "    </tr>\n",
       "    <tr>\n",
       "      <th>4</th>\n",
       "      <td>1928</td>\n",
       "      <td>The Broadway Melody</td>\n",
       "      <td>Charles King</td>\n",
       "      <td>Male</td>\n",
       "      <td>White</td>\n",
       "      <td>Academy Award Films</td>\n",
       "    </tr>\n",
       "  </tbody>\n",
       "</table>\n",
       "</div>"
      ],
      "text/plain": [
       "   Year          Movie Title                    Actor  Gender   Race  \\\n",
       "0  1927                Wings                Clara Bow  Female  White   \n",
       "1  1927                Wings   Charles 'Buddy' Rogers    Male  White   \n",
       "2  1927                Wings            Richard Arlen    Male  White   \n",
       "3  1927                Wings           Jobyna Ralston  Female  White   \n",
       "4  1928  The Broadway Melody             Charles King    Male  White   \n",
       "\n",
       "                  Type  \n",
       "0  Academy Award Films  \n",
       "1  Academy Award Films  \n",
       "2  Academy Award Films  \n",
       "3  Academy Award Films  \n",
       "4  Academy Award Films  "
      ]
     },
     "execution_count": 6,
     "metadata": {},
     "output_type": "execute_result"
    }
   ],
   "source": [
    "#combined above two dataframes\n",
    "combined_gender = award_gender_df.append(topgrossing_gender_df)\n",
    "combined_gender.head()"
   ]
  },
  {
   "cell_type": "code",
   "execution_count": 7,
   "metadata": {},
   "outputs": [
    {
     "data": {
      "text/plain": [
       "Type                 Gender\n",
       "Academy Award Films  Female    108\n",
       "                     Male      259\n",
       "Top Grossing Films   Female    103\n",
       "                     Male      262\n",
       "Name: Actor, dtype: int64"
      ]
     },
     "execution_count": 7,
     "metadata": {},
     "output_type": "execute_result"
    }
   ],
   "source": [
    "#grouping by Type and then Gender and counting how many by using the Actor column\n",
    "grouped_gender = combined_gender.groupby(['Type', 'Gender']).count()['Actor']\n",
    "grouped_gender"
   ]
  },
  {
   "cell_type": "code",
   "execution_count": 8,
   "metadata": {
    "scrolled": true
   },
   "outputs": [
    {
     "data": {
      "text/html": [
       "<div>\n",
       "<style scoped>\n",
       "    .dataframe tbody tr th:only-of-type {\n",
       "        vertical-align: middle;\n",
       "    }\n",
       "\n",
       "    .dataframe tbody tr th {\n",
       "        vertical-align: top;\n",
       "    }\n",
       "\n",
       "    .dataframe thead th {\n",
       "        text-align: right;\n",
       "    }\n",
       "</style>\n",
       "<table border=\"1\" class=\"dataframe\">\n",
       "  <thead>\n",
       "    <tr style=\"text-align: right;\">\n",
       "      <th></th>\n",
       "      <th>Type</th>\n",
       "      <th>Gender</th>\n",
       "      <th>Actor</th>\n",
       "    </tr>\n",
       "  </thead>\n",
       "  <tbody>\n",
       "    <tr>\n",
       "      <th>0</th>\n",
       "      <td>Academy Award Films</td>\n",
       "      <td>Female</td>\n",
       "      <td>108</td>\n",
       "    </tr>\n",
       "    <tr>\n",
       "      <th>1</th>\n",
       "      <td>Academy Award Films</td>\n",
       "      <td>Male</td>\n",
       "      <td>259</td>\n",
       "    </tr>\n",
       "    <tr>\n",
       "      <th>2</th>\n",
       "      <td>Top Grossing Films</td>\n",
       "      <td>Female</td>\n",
       "      <td>103</td>\n",
       "    </tr>\n",
       "    <tr>\n",
       "      <th>3</th>\n",
       "      <td>Top Grossing Films</td>\n",
       "      <td>Male</td>\n",
       "      <td>262</td>\n",
       "    </tr>\n",
       "  </tbody>\n",
       "</table>\n",
       "</div>"
      ],
      "text/plain": [
       "                  Type  Gender  Actor\n",
       "0  Academy Award Films  Female    108\n",
       "1  Academy Award Films    Male    259\n",
       "2   Top Grossing Films  Female    103\n",
       "3   Top Grossing Films    Male    262"
      ]
     },
     "execution_count": 8,
     "metadata": {},
     "output_type": "execute_result"
    }
   ],
   "source": [
    "#re-indexing the groupby to get a better view and work wit the dataframe\n",
    "indexed_gender = grouped_gender.reset_index()\n",
    "indexed_gender"
   ]
  },
  {
   "cell_type": "code",
   "execution_count": 10,
   "metadata": {},
   "outputs": [
    {
     "data": {
      "image/png": "[encoded data removed]",
      "text/plain": [
       "<Figure size 432x288 with 1 Axes>"
      ]
     },
     "metadata": {
      "needs_background": "light"
     },
     "output_type": "display_data"
    }
   ],
   "source": [
    "#plotting a stacked bar graph to compare the number of males and females in the award winning films and top grossing films\n",
    "values_gender = ['Award Winning Films', 'Top Grossing Films']\n",
    "N = 2\n",
    "xaxis = np.arange(N)\n",
    "female = tuple(indexed_gender[indexed_gender['Gender'] == 'Female']['Actor'])\n",
    "male = tuple(indexed_gender[indexed_gender['Gender'] == 'Male']['Actor'])\n",
    "fig1 = plt.bar(xaxis, female, color = 'pink')\n",
    "fig2 = plt.bar(xaxis, male,\n",
    "               bottom = female,\n",
    "              color = 'blue')\n",
    "plt.xticks(xaxis, values_gender)\n",
    "plt.xlabel('Category of Films')\n",
    "plt.ylabel('Gender Count')\n",
    "plt.title('Award Winning Films vs. Top Grossing Films: Gender')\n",
    "plt.tight_layout()\n",
    "plt.legend((fig1[0], fig2[0]), ('Female', 'Male'))\n",
    "\n",
    "#saving figure to png file and showing in notebook\n",
    "plt.savefig(\"Images/Stacked_Bar_Gender.png\")\n",
    "\n",
    "plt.show()"
   ]
  },
  {
   "cell_type": "code",
   "execution_count": null,
   "metadata": {},
   "outputs": [],
   "source": []
  }
 ],
 "metadata": {
  "kernelspec": {
   "display_name": "Python 3",
   "language": "python",
   "name": "python3"
  },
  "language_info": {
   "codemirror_mode": {
    "name": "ipython",
    "version": 3
   },
   "file_extension": ".py",
   "mimetype": "text/x-python",
   "name": "python",
   "nbconvert_exporter": "python",
   "pygments_lexer": "ipython3",
   "version": "3.7.6"
  }
 },
 "nbformat": 4,
 "nbformat_minor": 4
}
