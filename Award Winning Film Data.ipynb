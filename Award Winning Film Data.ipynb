{
 "cells": [
  {
   "cell_type": "code",
   "execution_count": null,
   "metadata": {},
   "outputs": [],
   "source": [
    "import requests\n",
    "from pprint import pprint\n",
    "import os\n",
    "import csv\n",
    "import pandas as pd\n",
    "import numpy as np\n",
    "from itertools import chain\n",
    "\n",
    "omdb_key = \"9b9d69c4\""
   ]
  },
  {
   "cell_type": "code",
   "execution_count": null,
   "metadata": {},
   "outputs": [],
   "source": [
    "award_winning_csv = 'newawardwinners.csv'\n",
    "award_winning_df = pd.read_csv(award_winning_csv)\n",
    "award_winning_df"
   ]
  },
  {
   "cell_type": "code",
   "execution_count": null,
   "metadata": {},
   "outputs": [],
   "source": [
    "url = f\"http://www.omdbapi.com/?apikey={omdb_key}&t=\""
   ]
  },
  {
   "cell_type": "code",
   "execution_count": null,
   "metadata": {},
   "outputs": [],
   "source": [
    "award_winning_df['Movie Genre'] = \"\"\n",
    "award_winning_df['Runtime'] = \"\"\n",
    "award_winning_df['Actors'] = \"\"\n",
    "award_winning_df['IMDB Rating'] = \"\"\n",
    "award_winning_df['Rotten Tomatoes Rating'] = \"\"\n",
    "award_winning_df.rename(columns = {'entity':'Movie Title','year':'Year','category':'Award'}, inplace = True)\n",
    "del award_winning_df['Unnamed: 0']\n",
    "award_winning_df.head()"
   ]
  },
  {
   "cell_type": "code",
   "execution_count": null,
   "metadata": {},
   "outputs": [],
   "source": [
    "\n",
    "for index, row in award_winning_df.iterrows():\n",
    "    \n",
    "    query_url = url + (row['Movie Title'])\n",
    "    \n",
    "    response_url = requests.get(query_url).json()\n",
    "    \n",
    "    try:\n",
    "        award_winning_df.loc[index, 'Movie Genre'] = response_url['Genre']\n",
    "        award_winning_df.loc[index, 'Actors'] = response_url['Actors']\n",
    "        award_winning_df.loc[index, 'Runtime'] = response_url['Runtime']\n",
    "        award_winning_df.loc[index, 'IMDB Rating'] = response_url['Ratings'][0]['Value']\n",
    "        award_winning_df.loc[index, 'Rotten Tomatoes Rating'] = response_url['Ratings'][1]['Value']\n",
    "        \n",
    "    except (KeyError,IndexError):\n",
    "        print(f\" Problem with this film - '{row['Movie Title']}'\")"
   ]
  },
  {
   "cell_type": "code",
   "execution_count": null,
   "metadata": {},
   "outputs": [],
   "source": [
    "award_winning_df.head()"
   ]
  },
  {
   "cell_type": "code",
   "execution_count": null,
   "metadata": {},
   "outputs": [],
   "source": [
    "award_winning_df['Actors'][0]"
   ]
  },
  {
   "cell_type": "code",
   "execution_count": null,
   "metadata": {},
   "outputs": [],
   "source": [
    "# create actors data frame with year, movie & actors\n",
    "actors_df = award_winning_df[['Year','Movie Title','Actors']]\n",
    "actors_df"
   ]
  },
  {
   "cell_type": "code",
   "execution_count": null,
   "metadata": {},
   "outputs": [],
   "source": [
    "def column_splitter(column_to_split):\n",
    "    return list(chain.from_iterable(column_to_split.str.split(',')))\n",
    "\n",
    "lengths = actors_df['Actors'].str.split(',').map(len)\n",
    "\n",
    "actors_df = pd.DataFrame({\n",
    "    'Year': np.repeat(actors_df['Year'],lengths),\n",
    "    'Movie Title': np.repeat(actors_df['Movie Title'],lengths),\n",
    "    'Actor': column_splitter(actors_df['Actors'])\n",
    "})\n",
    "\n",
    "actors_df.head()"
   ]
  },
  {
   "cell_type": "code",
   "execution_count": null,
   "metadata": {},
   "outputs": [],
   "source": []
  },
  {
   "cell_type": "code",
   "execution_count": null,
   "metadata": {},
   "outputs": [],
   "source": []
  }
 ],
 "metadata": {
  "kernelspec": {
   "display_name": "Python 3",
   "language": "python",
   "name": "python3"
  },
  "language_info": {
   "codemirror_mode": {
    "name": "ipython",
    "version": 3
   },
   "file_extension": ".py",
   "mimetype": "text/x-python",
   "name": "python",
   "nbconvert_exporter": "python",
   "pygments_lexer": "ipython3",
   "version": "3.7.6"
  }
 },
 "nbformat": 4,
 "nbformat_minor": 4
}
