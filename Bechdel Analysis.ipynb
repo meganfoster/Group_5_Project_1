{
 "cells": [
  {
   "cell_type": "code",
   "execution_count": null,
   "metadata": {},
   "outputs": [],
   "source": [
    "# Bechdel Rating: The actual score. Number from 0 to 3 \n",
    "# 0 means no two women\n",
    "# 1 means no talking\n",
    "# 2 means talking about a man \n",
    "# 3 means it passes the test"
   ]
  },
  {
   "cell_type": "code",
   "execution_count": 5,
   "metadata": {},
   "outputs": [],
   "source": [
    "# Dependencies\n",
    "import pandas as pd\n",
    "import matplotlib.pyplot as plt\n",
    "import numpy as np\n",
    "\n",
    "# Read CSV Files\n",
    "award_bechdel_csv_path = \"award_movies_bechdel.csv\"\n",
    "award_bechdel_df = pd.read_csv(award_bechdel_csv_path)\n",
    "topgross_bechdel_csv_path = \"topgross_movie_bechdel.csv\"\n",
    "topgross_bechdel_df = pd.read_csv(topgross_bechdel_csv_path)"
   ]
  },
  {
   "cell_type": "code",
   "execution_count": 84,
   "metadata": {},
   "outputs": [
    {
     "data": {
      "text/html": [
       "<div>\n",
       "<style scoped>\n",
       "    .dataframe tbody tr th:only-of-type {\n",
       "        vertical-align: middle;\n",
       "    }\n",
       "\n",
       "    .dataframe tbody tr th {\n",
       "        vertical-align: top;\n",
       "    }\n",
       "\n",
       "    .dataframe thead th {\n",
       "        text-align: right;\n",
       "    }\n",
       "</style>\n",
       "<table border=\"1\" class=\"dataframe\">\n",
       "  <thead>\n",
       "    <tr style=\"text-align: right;\">\n",
       "      <th></th>\n",
       "      <th>Unnamed: 0</th>\n",
       "      <th>category</th>\n",
       "      <th>year</th>\n",
       "      <th>Movie Title</th>\n",
       "      <th>IMDB ID</th>\n",
       "      <th>Bechdel Score</th>\n",
       "    </tr>\n",
       "  </thead>\n",
       "  <tbody>\n",
       "    <tr>\n",
       "      <th>0</th>\n",
       "      <td>0</td>\n",
       "      <td>OUTSTANDING PICTURE</td>\n",
       "      <td>1927</td>\n",
       "      <td>Wings</td>\n",
       "      <td>18578</td>\n",
       "      <td>1</td>\n",
       "    </tr>\n",
       "    <tr>\n",
       "      <th>1</th>\n",
       "      <td>1</td>\n",
       "      <td>OUTSTANDING PICTURE</td>\n",
       "      <td>1928</td>\n",
       "      <td>The Broadway Melody</td>\n",
       "      <td>19729</td>\n",
       "      <td>3</td>\n",
       "    </tr>\n",
       "    <tr>\n",
       "      <th>2</th>\n",
       "      <td>2</td>\n",
       "      <td>OUTSTANDING PRODUCTION</td>\n",
       "      <td>1929</td>\n",
       "      <td>All Quiet on the Western Front</td>\n",
       "      <td>20629</td>\n",
       "      <td>0</td>\n",
       "    </tr>\n",
       "    <tr>\n",
       "      <th>3</th>\n",
       "      <td>3</td>\n",
       "      <td>OUTSTANDING PRODUCTION</td>\n",
       "      <td>1930</td>\n",
       "      <td>Cimarron</td>\n",
       "      <td>21746</td>\n",
       "      <td>3</td>\n",
       "    </tr>\n",
       "    <tr>\n",
       "      <th>4</th>\n",
       "      <td>4</td>\n",
       "      <td>OUTSTANDING PRODUCTION</td>\n",
       "      <td>1931</td>\n",
       "      <td>Grand Hotel</td>\n",
       "      <td>22958</td>\n",
       "      <td>3</td>\n",
       "    </tr>\n",
       "    <tr>\n",
       "      <th>...</th>\n",
       "      <td>...</td>\n",
       "      <td>...</td>\n",
       "      <td>...</td>\n",
       "      <td>...</td>\n",
       "      <td>...</td>\n",
       "      <td>...</td>\n",
       "    </tr>\n",
       "    <tr>\n",
       "      <th>87</th>\n",
       "      <td>87</td>\n",
       "      <td>BEST PICTURE</td>\n",
       "      <td>2015</td>\n",
       "      <td>Spotlight</td>\n",
       "      <td>1895587</td>\n",
       "      <td>1</td>\n",
       "    </tr>\n",
       "    <tr>\n",
       "      <th>88</th>\n",
       "      <td>88</td>\n",
       "      <td>BEST PICTURE</td>\n",
       "      <td>2016</td>\n",
       "      <td>Moonlight</td>\n",
       "      <td>4975722</td>\n",
       "      <td>1</td>\n",
       "    </tr>\n",
       "    <tr>\n",
       "      <th>89</th>\n",
       "      <td>89</td>\n",
       "      <td>BEST PICTURE</td>\n",
       "      <td>2017</td>\n",
       "      <td>The Shape of Water</td>\n",
       "      <td>5580390</td>\n",
       "      <td>3</td>\n",
       "    </tr>\n",
       "    <tr>\n",
       "      <th>90</th>\n",
       "      <td>90</td>\n",
       "      <td>BEST PICTURE</td>\n",
       "      <td>2018</td>\n",
       "      <td>Green Book</td>\n",
       "      <td>6966692</td>\n",
       "      <td>1</td>\n",
       "    </tr>\n",
       "    <tr>\n",
       "      <th>91</th>\n",
       "      <td>91</td>\n",
       "      <td>BEST PICTURE</td>\n",
       "      <td>2019</td>\n",
       "      <td>Parasite</td>\n",
       "      <td>6751668</td>\n",
       "      <td>3</td>\n",
       "    </tr>\n",
       "  </tbody>\n",
       "</table>\n",
       "<p>92 rows × 6 columns</p>\n",
       "</div>"
      ],
      "text/plain": [
       "    Unnamed: 0                category  year                     Movie Title  \\\n",
       "0            0     OUTSTANDING PICTURE  1927                           Wings   \n",
       "1            1     OUTSTANDING PICTURE  1928             The Broadway Melody   \n",
       "2            2  OUTSTANDING PRODUCTION  1929  All Quiet on the Western Front   \n",
       "3            3  OUTSTANDING PRODUCTION  1930                        Cimarron   \n",
       "4            4  OUTSTANDING PRODUCTION  1931                     Grand Hotel   \n",
       "..         ...                     ...   ...                             ...   \n",
       "87          87            BEST PICTURE  2015                       Spotlight   \n",
       "88          88            BEST PICTURE  2016                       Moonlight   \n",
       "89          89            BEST PICTURE  2017              The Shape of Water   \n",
       "90          90            BEST PICTURE  2018                      Green Book   \n",
       "91          91            BEST PICTURE  2019                        Parasite   \n",
       "\n",
       "    IMDB ID Bechdel Score  \n",
       "0     18578             1  \n",
       "1     19729             3  \n",
       "2     20629             0  \n",
       "3     21746             3  \n",
       "4     22958             3  \n",
       "..      ...           ...  \n",
       "87  1895587             1  \n",
       "88  4975722             1  \n",
       "89  5580390             3  \n",
       "90  6966692             1  \n",
       "91  6751668             3  \n",
       "\n",
       "[92 rows x 6 columns]"
      ]
     },
     "execution_count": 84,
     "metadata": {},
     "output_type": "execute_result"
    }
   ],
   "source": [
    "# Set award-winning movie ID variable and view dataframe\n",
    "award_bechdel_df"
   ]
  },
  {
   "cell_type": "code",
   "execution_count": 85,
   "metadata": {},
   "outputs": [
    {
     "data": {
      "text/html": [
       "<div>\n",
       "<style scoped>\n",
       "    .dataframe tbody tr th:only-of-type {\n",
       "        vertical-align: middle;\n",
       "    }\n",
       "\n",
       "    .dataframe tbody tr th {\n",
       "        vertical-align: top;\n",
       "    }\n",
       "\n",
       "    .dataframe thead th {\n",
       "        text-align: right;\n",
       "    }\n",
       "</style>\n",
       "<table border=\"1\" class=\"dataframe\">\n",
       "  <thead>\n",
       "    <tr style=\"text-align: right;\">\n",
       "      <th></th>\n",
       "      <th>Year</th>\n",
       "      <th>Movie ID</th>\n",
       "      <th>Movie Title</th>\n",
       "      <th>Revenue</th>\n",
       "      <th>IMDB ID</th>\n",
       "      <th>Bechdel Score</th>\n",
       "    </tr>\n",
       "  </thead>\n",
       "  <tbody>\n",
       "    <tr>\n",
       "      <th>0</th>\n",
       "      <td>1927</td>\n",
       "      <td>287262</td>\n",
       "      <td>The Battles of the Coronel and Falkland Islands</td>\n",
       "      <td>6241682</td>\n",
       "      <td>221007</td>\n",
       "      <td>Unknown</td>\n",
       "    </tr>\n",
       "    <tr>\n",
       "      <th>1</th>\n",
       "      <td>1928</td>\n",
       "      <td>173689</td>\n",
       "      <td>Lights of New York</td>\n",
       "      <td>1200000</td>\n",
       "      <td>19096</td>\n",
       "      <td>Unknown</td>\n",
       "    </tr>\n",
       "    <tr>\n",
       "      <th>2</th>\n",
       "      <td>1929</td>\n",
       "      <td>65203</td>\n",
       "      <td>The Broadway Melody</td>\n",
       "      <td>4358000</td>\n",
       "      <td>19729</td>\n",
       "      <td>3</td>\n",
       "    </tr>\n",
       "    <tr>\n",
       "      <th>3</th>\n",
       "      <td>1930</td>\n",
       "      <td>166307</td>\n",
       "      <td>Tom Sawyer</td>\n",
       "      <td>11000000</td>\n",
       "      <td>70814</td>\n",
       "      <td>Unknown</td>\n",
       "    </tr>\n",
       "    <tr>\n",
       "      <th>4</th>\n",
       "      <td>1931</td>\n",
       "      <td>3035</td>\n",
       "      <td>Frankenstein</td>\n",
       "      <td>12000000</td>\n",
       "      <td>21884</td>\n",
       "      <td>1</td>\n",
       "    </tr>\n",
       "    <tr>\n",
       "      <th>...</th>\n",
       "      <td>...</td>\n",
       "      <td>...</td>\n",
       "      <td>...</td>\n",
       "      <td>...</td>\n",
       "      <td>...</td>\n",
       "      <td>...</td>\n",
       "    </tr>\n",
       "    <tr>\n",
       "      <th>88</th>\n",
       "      <td>2015</td>\n",
       "      <td>140607</td>\n",
       "      <td>Star Wars: The Force Awakens</td>\n",
       "      <td>2068223624</td>\n",
       "      <td>7768640</td>\n",
       "      <td>3</td>\n",
       "    </tr>\n",
       "    <tr>\n",
       "      <th>89</th>\n",
       "      <td>2016</td>\n",
       "      <td>271110</td>\n",
       "      <td>Captain America: Civil War</td>\n",
       "      <td>1153296293</td>\n",
       "      <td>3498820</td>\n",
       "      <td>3</td>\n",
       "    </tr>\n",
       "    <tr>\n",
       "      <th>90</th>\n",
       "      <td>2017</td>\n",
       "      <td>181808</td>\n",
       "      <td>Star Wars: The Last Jedi</td>\n",
       "      <td>1332539889</td>\n",
       "      <td>3486354</td>\n",
       "      <td>3</td>\n",
       "    </tr>\n",
       "    <tr>\n",
       "      <th>91</th>\n",
       "      <td>2018</td>\n",
       "      <td>299536</td>\n",
       "      <td>Avengers: Infinity War</td>\n",
       "      <td>2046239637</td>\n",
       "      <td>4154756</td>\n",
       "      <td>3</td>\n",
       "    </tr>\n",
       "    <tr>\n",
       "      <th>92</th>\n",
       "      <td>2019</td>\n",
       "      <td>299534</td>\n",
       "      <td>Avengers: Endgame</td>\n",
       "      <td>2797800564</td>\n",
       "      <td>4154796</td>\n",
       "      <td>3</td>\n",
       "    </tr>\n",
       "  </tbody>\n",
       "</table>\n",
       "<p>93 rows × 6 columns</p>\n",
       "</div>"
      ],
      "text/plain": [
       "    Year  Movie ID                                      Movie Title  \\\n",
       "0   1927    287262  The Battles of the Coronel and Falkland Islands   \n",
       "1   1928    173689                               Lights of New York   \n",
       "2   1929     65203                              The Broadway Melody   \n",
       "3   1930    166307                                       Tom Sawyer   \n",
       "4   1931      3035                                     Frankenstein   \n",
       "..   ...       ...                                              ...   \n",
       "88  2015    140607                     Star Wars: The Force Awakens   \n",
       "89  2016    271110                       Captain America: Civil War   \n",
       "90  2017    181808                         Star Wars: The Last Jedi   \n",
       "91  2018    299536                           Avengers: Infinity War   \n",
       "92  2019    299534                                Avengers: Endgame   \n",
       "\n",
       "       Revenue  IMDB ID Bechdel Score  \n",
       "0      6241682   221007       Unknown  \n",
       "1      1200000    19096       Unknown  \n",
       "2      4358000    19729             3  \n",
       "3     11000000    70814       Unknown  \n",
       "4     12000000    21884             1  \n",
       "..         ...      ...           ...  \n",
       "88  2068223624  7768640             3  \n",
       "89  1153296293  3498820             3  \n",
       "90  1332539889  3486354             3  \n",
       "91  2046239637  4154756             3  \n",
       "92  2797800564  4154796             3  \n",
       "\n",
       "[93 rows x 6 columns]"
      ]
     },
     "execution_count": 85,
     "metadata": {},
     "output_type": "execute_result"
    }
   ],
   "source": [
    "# Set top_grossing movie ID variable and view dataframe\n",
    "topgross_bechdel_df"
   ]
  },
  {
   "cell_type": "code",
   "execution_count": 27,
   "metadata": {},
   "outputs": [
    {
     "name": "stdout",
     "output_type": "stream",
     "text": [
      "3          41\n",
      "1          31\n",
      "2           8\n",
      "Unknown     7\n",
      "0           5\n",
      "Name: Bechdel Score, dtype: int64\n"
     ]
    }
   ],
   "source": [
    "# Count films by bechdel score\n",
    "award_bechdel_count = award_bechdel_df[\"Bechdel Score\"].value_counts()\n",
    "print(award_bechdel_count)"
   ]
  },
  {
   "cell_type": "code",
   "execution_count": 20,
   "metadata": {},
   "outputs": [
    {
     "data": {
      "text/html": [
       "<div>\n",
       "<style scoped>\n",
       "    .dataframe tbody tr th:only-of-type {\n",
       "        vertical-align: middle;\n",
       "    }\n",
       "\n",
       "    .dataframe tbody tr th {\n",
       "        vertical-align: top;\n",
       "    }\n",
       "\n",
       "    .dataframe thead th {\n",
       "        text-align: right;\n",
       "    }\n",
       "</style>\n",
       "<table border=\"1\" class=\"dataframe\">\n",
       "  <thead>\n",
       "    <tr style=\"text-align: right;\">\n",
       "      <th></th>\n",
       "      <th>Number of Films</th>\n",
       "      <th>Bechdel Score</th>\n",
       "    </tr>\n",
       "  </thead>\n",
       "  <tbody>\n",
       "    <tr>\n",
       "      <th>0</th>\n",
       "      <td>41</td>\n",
       "      <td>3</td>\n",
       "    </tr>\n",
       "    <tr>\n",
       "      <th>1</th>\n",
       "      <td>31</td>\n",
       "      <td>1</td>\n",
       "    </tr>\n",
       "    <tr>\n",
       "      <th>2</th>\n",
       "      <td>8</td>\n",
       "      <td>2</td>\n",
       "    </tr>\n",
       "    <tr>\n",
       "      <th>3</th>\n",
       "      <td>7</td>\n",
       "      <td>Unknown</td>\n",
       "    </tr>\n",
       "    <tr>\n",
       "      <th>4</th>\n",
       "      <td>5</td>\n",
       "      <td>0</td>\n",
       "    </tr>\n",
       "  </tbody>\n",
       "</table>\n",
       "</div>"
      ],
      "text/plain": [
       "   Number of Films Bechdel Score\n",
       "0               41             3\n",
       "1               31             1\n",
       "2                8             2\n",
       "3                7       Unknown\n",
       "4                5             0"
      ]
     },
     "execution_count": 20,
     "metadata": {},
     "output_type": "execute_result"
    }
   ],
   "source": [
    "award_pie_df = pd.DataFrame(award_bechdel_count)\n",
    "award_pie_df = award_pie_df.rename(columns={\"Bechdel Score\": \"Number of Films\"})\n",
    "award_pie_df[\"Bechdel Score\"] = award_pie_df.index\n",
    "award_pie_df.index = range(5)\n",
    "award_pie_df"
   ]
  },
  {
   "cell_type": "code",
   "execution_count": 21,
   "metadata": {},
   "outputs": [
    {
     "data": {
      "text/html": [
       "<div>\n",
       "<style scoped>\n",
       "    .dataframe tbody tr th:only-of-type {\n",
       "        vertical-align: middle;\n",
       "    }\n",
       "\n",
       "    .dataframe tbody tr th {\n",
       "        vertical-align: top;\n",
       "    }\n",
       "\n",
       "    .dataframe thead th {\n",
       "        text-align: right;\n",
       "    }\n",
       "</style>\n",
       "<table border=\"1\" class=\"dataframe\">\n",
       "  <thead>\n",
       "    <tr style=\"text-align: right;\">\n",
       "      <th></th>\n",
       "      <th>Number of Films</th>\n",
       "      <th>Bechdel Score</th>\n",
       "      <th>Bechdel Result</th>\n",
       "    </tr>\n",
       "  </thead>\n",
       "  <tbody>\n",
       "    <tr>\n",
       "      <th>4</th>\n",
       "      <td>5</td>\n",
       "      <td>0</td>\n",
       "      <td>0 - Film does not contain two women characters</td>\n",
       "    </tr>\n",
       "    <tr>\n",
       "      <th>1</th>\n",
       "      <td>31</td>\n",
       "      <td>1</td>\n",
       "      <td>1 - Women present; don't talk to one another</td>\n",
       "    </tr>\n",
       "    <tr>\n",
       "      <th>2</th>\n",
       "      <td>8</td>\n",
       "      <td>2</td>\n",
       "      <td>2 - Women present; talk about a man</td>\n",
       "    </tr>\n",
       "    <tr>\n",
       "      <th>0</th>\n",
       "      <td>41</td>\n",
       "      <td>3</td>\n",
       "      <td>3 - Passes the Bechdel Test</td>\n",
       "    </tr>\n",
       "    <tr>\n",
       "      <th>3</th>\n",
       "      <td>7</td>\n",
       "      <td>Unknown</td>\n",
       "      <td>Unknown</td>\n",
       "    </tr>\n",
       "  </tbody>\n",
       "</table>\n",
       "</div>"
      ],
      "text/plain": [
       "   Number of Films Bechdel Score  \\\n",
       "4                5             0   \n",
       "1               31             1   \n",
       "2                8             2   \n",
       "0               41             3   \n",
       "3                7       Unknown   \n",
       "\n",
       "                                   Bechdel Result  \n",
       "4  0 - Film does not contain two women characters  \n",
       "1    1 - Women present; don't talk to one another  \n",
       "2             2 - Women present; talk about a man  \n",
       "0                     3 - Passes the Bechdel Test  \n",
       "3                                         Unknown  "
      ]
     },
     "execution_count": 21,
     "metadata": {},
     "output_type": "execute_result"
    }
   ],
   "source": [
    "# Labels for the sections of our Best Picture pie chart\n",
    "bechdel_results = [\"3 - Passes the Bechdel Test\", \n",
    "                   \"1 - Women present; don't talk to one another\", \n",
    "                   \"2 - Women present; talk about a man\", \n",
    "                   \"Unknown\", \n",
    "                   \"0 - Film does not contain two women characters\"]\n",
    "\n",
    "award_pie_df[\"Bechdel Result\"] = bechdel_results\n",
    "\n",
    "award_pie_df = award_pie_df.sort_values([\"Bechdel Result\"])\n",
    "\n",
    "award_pie_df"
   ]
  },
  {
   "cell_type": "code",
   "execution_count": 32,
   "metadata": {},
   "outputs": [
    {
     "data": {
      "image/png": "[encoded data removed]",
      "text/plain": [
       "<Figure size 432x288 with 1 Axes>"
      ]
     },
     "metadata": {},
     "output_type": "display_data"
    }
   ],
   "source": [
    "# Labels for the sections of our pie chart\n",
    "labels = award_pie_df[\"Bechdel Result\"]\n",
    "\n",
    "# The values of each section of the pie chart\n",
    "number_of_films = award_pie_df[\"Number of Films\"]\n",
    "\n",
    "# The colors of each section of the pie chart\n",
    "colors = [\"red\", \"orange\", \"lightskyblue\", \"green\", \"lightcoral\"]\n",
    "\n",
    "# Tells matplotlib to seperate the \"Humans\" section from the others\n",
    "explode = (0, 0, 0, 0.15, 0)\n",
    "\n",
    "# Creates the pie chart based upon the values above\n",
    "# Automatically finds the percentages of each part of the pie chart\n",
    "plt.pie(number_of_films, explode=explode, labels=labels, colors=colors,\n",
    "        autopct=\"%1.1f%%\", shadow=True, startangle=90)\n",
    "\n",
    "# Tells matplotlib that we want a pie chart with equal axes\n",
    "plt.title(\"BEST PICTURE FILMS BY BECHDEL SCORE\")\n",
    "plt.axis(\"equal\")\n",
    "\n",
    "plt.show()"
   ]
  },
  {
   "cell_type": "code",
   "execution_count": 49,
   "metadata": {},
   "outputs": [
    {
     "data": {
      "text/plain": [
       "<matplotlib.axes._subplots.AxesSubplot at 0x23eaa465308>"
      ]
     },
     "execution_count": 49,
     "metadata": {},
     "output_type": "execute_result"
    },
    {
     "data": {
      "image/png": "[encoded data removed]",
      "text/plain": [
       "<Figure size 432x288 with 1 Axes>"
      ]
     },
     "metadata": {
      "needs_background": "light"
     },
     "output_type": "display_data"
    }
   ],
   "source": [
    "award_pie_df[['Number of Films']].T.plot(kind='barh', stacked=True)"
   ]
  },
  {
   "cell_type": "code",
   "execution_count": 26,
   "metadata": {},
   "outputs": [
    {
     "name": "stdout",
     "output_type": "stream",
     "text": [
      "3          39\n",
      "1          21\n",
      "Unknown    14\n",
      "2          10\n",
      "0           9\n",
      "Name: Bechdel Score, dtype: int64\n"
     ]
    }
   ],
   "source": [
    "topgross_bechdel_count = topgross_bechdel_df[\"Bechdel Score\"].value_counts()\n",
    "print(topgross_bechdel_count)"
   ]
  },
  {
   "cell_type": "code",
   "execution_count": 28,
   "metadata": {},
   "outputs": [
    {
     "data": {
      "text/html": [
       "<div>\n",
       "<style scoped>\n",
       "    .dataframe tbody tr th:only-of-type {\n",
       "        vertical-align: middle;\n",
       "    }\n",
       "\n",
       "    .dataframe tbody tr th {\n",
       "        vertical-align: top;\n",
       "    }\n",
       "\n",
       "    .dataframe thead th {\n",
       "        text-align: right;\n",
       "    }\n",
       "</style>\n",
       "<table border=\"1\" class=\"dataframe\">\n",
       "  <thead>\n",
       "    <tr style=\"text-align: right;\">\n",
       "      <th></th>\n",
       "      <th>Number of Films</th>\n",
       "      <th>Bechdel Score</th>\n",
       "    </tr>\n",
       "  </thead>\n",
       "  <tbody>\n",
       "    <tr>\n",
       "      <th>0</th>\n",
       "      <td>39</td>\n",
       "      <td>3</td>\n",
       "    </tr>\n",
       "    <tr>\n",
       "      <th>1</th>\n",
       "      <td>21</td>\n",
       "      <td>1</td>\n",
       "    </tr>\n",
       "    <tr>\n",
       "      <th>2</th>\n",
       "      <td>14</td>\n",
       "      <td>Unknown</td>\n",
       "    </tr>\n",
       "    <tr>\n",
       "      <th>3</th>\n",
       "      <td>10</td>\n",
       "      <td>2</td>\n",
       "    </tr>\n",
       "    <tr>\n",
       "      <th>4</th>\n",
       "      <td>9</td>\n",
       "      <td>0</td>\n",
       "    </tr>\n",
       "  </tbody>\n",
       "</table>\n",
       "</div>"
      ],
      "text/plain": [
       "   Number of Films Bechdel Score\n",
       "0               39             3\n",
       "1               21             1\n",
       "2               14       Unknown\n",
       "3               10             2\n",
       "4                9             0"
      ]
     },
     "execution_count": 28,
     "metadata": {},
     "output_type": "execute_result"
    }
   ],
   "source": [
    "topgross_pie_df = pd.DataFrame(topgross_bechdel_count)\n",
    "topgross_pie_df = topgross_pie_df.rename(columns={\"Bechdel Score\": \"Number of Films\"})\n",
    "topgross_pie_df[\"Bechdel Score\"] = topgross_pie_df.index\n",
    "topgross_pie_df.index = range(5)\n",
    "topgross_pie_df"
   ]
  },
  {
   "cell_type": "code",
   "execution_count": 29,
   "metadata": {},
   "outputs": [
    {
     "data": {
      "text/html": [
       "<div>\n",
       "<style scoped>\n",
       "    .dataframe tbody tr th:only-of-type {\n",
       "        vertical-align: middle;\n",
       "    }\n",
       "\n",
       "    .dataframe tbody tr th {\n",
       "        vertical-align: top;\n",
       "    }\n",
       "\n",
       "    .dataframe thead th {\n",
       "        text-align: right;\n",
       "    }\n",
       "</style>\n",
       "<table border=\"1\" class=\"dataframe\">\n",
       "  <thead>\n",
       "    <tr style=\"text-align: right;\">\n",
       "      <th></th>\n",
       "      <th>Number of Films</th>\n",
       "      <th>Bechdel Score</th>\n",
       "      <th>Bechdel Result</th>\n",
       "    </tr>\n",
       "  </thead>\n",
       "  <tbody>\n",
       "    <tr>\n",
       "      <th>4</th>\n",
       "      <td>9</td>\n",
       "      <td>0</td>\n",
       "      <td>0 - Film does not contain two women characters</td>\n",
       "    </tr>\n",
       "    <tr>\n",
       "      <th>1</th>\n",
       "      <td>21</td>\n",
       "      <td>1</td>\n",
       "      <td>1 - Women present; don't talk to one another</td>\n",
       "    </tr>\n",
       "    <tr>\n",
       "      <th>3</th>\n",
       "      <td>10</td>\n",
       "      <td>2</td>\n",
       "      <td>2 - Women present; talk about a man</td>\n",
       "    </tr>\n",
       "    <tr>\n",
       "      <th>0</th>\n",
       "      <td>39</td>\n",
       "      <td>3</td>\n",
       "      <td>3 - Passes the Bechdel Test</td>\n",
       "    </tr>\n",
       "    <tr>\n",
       "      <th>2</th>\n",
       "      <td>14</td>\n",
       "      <td>Unknown</td>\n",
       "      <td>Unknown</td>\n",
       "    </tr>\n",
       "  </tbody>\n",
       "</table>\n",
       "</div>"
      ],
      "text/plain": [
       "   Number of Films Bechdel Score  \\\n",
       "4                9             0   \n",
       "1               21             1   \n",
       "3               10             2   \n",
       "0               39             3   \n",
       "2               14       Unknown   \n",
       "\n",
       "                                   Bechdel Result  \n",
       "4  0 - Film does not contain two women characters  \n",
       "1    1 - Women present; don't talk to one another  \n",
       "3             2 - Women present; talk about a man  \n",
       "0                     3 - Passes the Bechdel Test  \n",
       "2                                         Unknown  "
      ]
     },
     "execution_count": 29,
     "metadata": {},
     "output_type": "execute_result"
    }
   ],
   "source": [
    "# Labels for the sections of our Best Picture pie chart\n",
    "bechdel_results = [\"3 - Passes the Bechdel Test\", \n",
    "                   \"1 - Women present; don't talk to one another\", \n",
    "                   \"Unknown\", \n",
    "                   \"2 - Women present; talk about a man\", \n",
    "                   \"0 - Film does not contain two women characters\"]\n",
    "\n",
    "topgross_pie_df[\"Bechdel Result\"] = bechdel_results\n",
    "\n",
    "topgross_pie_df = topgross_pie_df.sort_values([\"Bechdel Result\"])\n",
    "\n",
    "topgross_pie_df"
   ]
  },
  {
   "cell_type": "code",
   "execution_count": 33,
   "metadata": {},
   "outputs": [
    {
     "data": {
      "image/png": "[encoded data removed]",
      "text/plain": [
       "<Figure size 432x288 with 1 Axes>"
      ]
     },
     "metadata": {},
     "output_type": "display_data"
    }
   ],
   "source": [
    "# Labels for the sections of our pie chart\n",
    "labels = topgross_pie_df[\"Bechdel Result\"]\n",
    "\n",
    "# The values of each section of the pie chart\n",
    "number_of_films = topgross_pie_df[\"Number of Films\"]\n",
    "\n",
    "# The colors of each section of the pie chart\n",
    "colors = [\"red\", \"orange\", \"lightskyblue\", \"green\", \"lightcoral\"]\n",
    "\n",
    "# Tells matplotlib to seperate the \"Humans\" section from the others\n",
    "explode = (0, 0, 0, 0.15, 0)\n",
    "\n",
    "# Creates the pie chart based upon the values above\n",
    "# Automatically finds the percentages of each part of the pie chart\n",
    "plt.pie(number_of_films, explode=explode, labels=labels, colors=colors,\n",
    "        autopct=\"%1.1f%%\", shadow=True, startangle=90)\n",
    "\n",
    "# Tells matplotlib that we want a pie chart with equal axes\n",
    "plt.title(\"TOP GROSSING FILMS BY BECHDEL SCORE\")\n",
    "plt.axis(\"equal\")\n",
    "\n",
    "plt.show()"
   ]
  },
  {
   "cell_type": "code",
   "execution_count": 82,
   "metadata": {},
   "outputs": [
    {
     "data": {
      "text/html": [
       "<div>\n",
       "<style scoped>\n",
       "    .dataframe tbody tr th:only-of-type {\n",
       "        vertical-align: middle;\n",
       "    }\n",
       "\n",
       "    .dataframe tbody tr th {\n",
       "        vertical-align: top;\n",
       "    }\n",
       "\n",
       "    .dataframe thead th {\n",
       "        text-align: right;\n",
       "    }\n",
       "</style>\n",
       "<table border=\"1\" class=\"dataframe\">\n",
       "  <thead>\n",
       "    <tr style=\"text-align: right;\">\n",
       "      <th></th>\n",
       "      <th>Unknown</th>\n",
       "      <th>0</th>\n",
       "      <th>1</th>\n",
       "      <th>2</th>\n",
       "      <th>3</th>\n",
       "    </tr>\n",
       "  </thead>\n",
       "  <tbody>\n",
       "    <tr>\n",
       "      <th>Best Picture</th>\n",
       "      <td>7</td>\n",
       "      <td>5</td>\n",
       "      <td>31</td>\n",
       "      <td>8</td>\n",
       "      <td>41</td>\n",
       "    </tr>\n",
       "    <tr>\n",
       "      <th>Top Grosser</th>\n",
       "      <td>14</td>\n",
       "      <td>9</td>\n",
       "      <td>21</td>\n",
       "      <td>2</td>\n",
       "      <td>39</td>\n",
       "    </tr>\n",
       "  </tbody>\n",
       "</table>\n",
       "</div>"
      ],
      "text/plain": [
       "              Unknown  0   1  2   3\n",
       "Best Picture        7  5  31  8  41\n",
       "Top Grosser        14  9  21  2  39"
      ]
     },
     "execution_count": 82,
     "metadata": {},
     "output_type": "execute_result"
    }
   ],
   "source": [
    "plotdata = pd.DataFrame({\n",
    "    \"Unknown\":[7,14],\n",
    "    \"0\":[5,9],\n",
    "    \"1\":[31,21],\n",
    "    \"2\":[8,2],\n",
    "    \"3\":[41,39]\n",
    "    }, index = [\"Best Picture\", \"Top Grosser\"]\n",
    ")\n",
    "plotdata"
   ]
  },
  {
   "cell_type": "code",
   "execution_count": 83,
   "metadata": {},
   "outputs": [
    {
     "data": {
      "image/png": "[encoded data removed]",
      "text/plain": [
       "<Figure size 432x288 with 1 Axes>"
      ]
     },
     "metadata": {
      "needs_background": "light"
     },
     "output_type": "display_data"
    }
   ],
   "source": [
    "stacked_data = plotdata.apply(lambda x: x*100/sum(x), axis=1)\n",
    "stacked_data.plot(kind=\"barh\", stacked=True)\n",
    "plt.legend(loc='center left', bbox_to_anchor=(1.0, 0.5))\n",
    "plt.title(\"Bechdel Score Breakdown\")\n",
    "plt.xlabel(\"Percentage of Films by Score (%)\")\n",
    "plt.show()"
   ]
  },
  {
   "cell_type": "code",
   "execution_count": 70,
   "metadata": {},
   "outputs": [
    {
     "data": {
      "text/html": [
       "<div>\n",
       "<style scoped>\n",
       "    .dataframe tbody tr th:only-of-type {\n",
       "        vertical-align: middle;\n",
       "    }\n",
       "\n",
       "    .dataframe tbody tr th {\n",
       "        vertical-align: top;\n",
       "    }\n",
       "\n",
       "    .dataframe thead th {\n",
       "        text-align: right;\n",
       "    }\n",
       "</style>\n",
       "<table border=\"1\" class=\"dataframe\">\n",
       "  <thead>\n",
       "    <tr style=\"text-align: right;\">\n",
       "      <th></th>\n",
       "      <th>0</th>\n",
       "      <th>1</th>\n",
       "      <th>2</th>\n",
       "      <th>3</th>\n",
       "    </tr>\n",
       "  </thead>\n",
       "  <tbody>\n",
       "    <tr>\n",
       "      <th>Best Picture</th>\n",
       "      <td>5</td>\n",
       "      <td>31</td>\n",
       "      <td>8</td>\n",
       "      <td>41</td>\n",
       "    </tr>\n",
       "    <tr>\n",
       "      <th>Top Grosser</th>\n",
       "      <td>9</td>\n",
       "      <td>21</td>\n",
       "      <td>2</td>\n",
       "      <td>39</td>\n",
       "    </tr>\n",
       "  </tbody>\n",
       "</table>\n",
       "</div>"
      ],
      "text/plain": [
       "              0   1  2   3\n",
       "Best Picture  5  31  8  41\n",
       "Top Grosser   9  21  2  39"
      ]
     },
     "execution_count": 70,
     "metadata": {},
     "output_type": "execute_result"
    }
   ],
   "source": [
    "plotdata = pd.DataFrame({\n",
    "    \"0\":[5,9],\n",
    "    \"1\":[31,21],\n",
    "    \"2\":[8,2],\n",
    "    \"3\":[41,39]\n",
    "    }, index = [\"Best Picture\", \"Top Grosser\"]\n",
    ")\n",
    "plotdata"
   ]
  },
  {
   "cell_type": "code",
   "execution_count": 71,
   "metadata": {},
   "outputs": [
    {
     "data": {
      "image/png": "[encoded data removed]",
      "text/plain": [
       "<Figure size 432x288 with 1 Axes>"
      ]
     },
     "metadata": {
      "needs_background": "light"
     },
     "output_type": "display_data"
    }
   ],
   "source": [
    "stacked_data = plotdata.apply(lambda x: x*100/sum(x), axis=1)\n",
    "stacked_data.plot(kind=\"barh\", stacked=True)\n",
    "plt.legend(loc='center left', bbox_to_anchor=(1.0, 0.5))\n",
    "plt.title(\"Bechdel Score Breakdown\")\n",
    "plt.xlabel(\"Percentage of Films by Score (%)\")\n",
    "plt.show()"
   ]
  },
  {
   "cell_type": "code",
   "execution_count": 47,
   "metadata": {},
   "outputs": [
    {
     "data": {
      "text/html": [
       "<div>\n",
       "<style scoped>\n",
       "    .dataframe tbody tr th:only-of-type {\n",
       "        vertical-align: middle;\n",
       "    }\n",
       "\n",
       "    .dataframe tbody tr th {\n",
       "        vertical-align: top;\n",
       "    }\n",
       "\n",
       "    .dataframe thead th {\n",
       "        text-align: right;\n",
       "    }\n",
       "</style>\n",
       "<table border=\"1\" class=\"dataframe\">\n",
       "  <thead>\n",
       "    <tr style=\"text-align: right;\">\n",
       "      <th></th>\n",
       "      <th>Year</th>\n",
       "      <th>Best Picture</th>\n",
       "      <th>Best Picture Bechdel</th>\n",
       "      <th>Top Grosser</th>\n",
       "      <th>Top Grosser Bechdel</th>\n",
       "    </tr>\n",
       "  </thead>\n",
       "  <tbody>\n",
       "    <tr>\n",
       "      <th>2</th>\n",
       "      <td>1929</td>\n",
       "      <td>All Quiet on the Western Front</td>\n",
       "      <td>0.0</td>\n",
       "      <td>The Broadway Melody</td>\n",
       "      <td>3.0</td>\n",
       "    </tr>\n",
       "    <tr>\n",
       "      <th>4</th>\n",
       "      <td>1931</td>\n",
       "      <td>Grand Hotel</td>\n",
       "      <td>3.0</td>\n",
       "      <td>Frankenstein</td>\n",
       "      <td>1.0</td>\n",
       "    </tr>\n",
       "    <tr>\n",
       "      <th>5</th>\n",
       "      <td>1932</td>\n",
       "      <td>Cavalcade</td>\n",
       "      <td>3.0</td>\n",
       "      <td>Grand Hotel</td>\n",
       "      <td>3.0</td>\n",
       "    </tr>\n",
       "    <tr>\n",
       "      <th>6</th>\n",
       "      <td>1933</td>\n",
       "      <td>It Happened One Night</td>\n",
       "      <td>3.0</td>\n",
       "      <td>King Kong</td>\n",
       "      <td>0.0</td>\n",
       "    </tr>\n",
       "    <tr>\n",
       "      <th>7</th>\n",
       "      <td>1934</td>\n",
       "      <td>Mutiny on the Bounty</td>\n",
       "      <td>1.0</td>\n",
       "      <td>The Man Who Knew Too Much</td>\n",
       "      <td>2.0</td>\n",
       "    </tr>\n",
       "    <tr>\n",
       "      <th>...</th>\n",
       "      <td>...</td>\n",
       "      <td>...</td>\n",
       "      <td>...</td>\n",
       "      <td>...</td>\n",
       "      <td>...</td>\n",
       "    </tr>\n",
       "    <tr>\n",
       "      <th>87</th>\n",
       "      <td>2014</td>\n",
       "      <td>Spotlight</td>\n",
       "      <td>1.0</td>\n",
       "      <td>Transformers: Age of Extinction</td>\n",
       "      <td>3.0</td>\n",
       "    </tr>\n",
       "    <tr>\n",
       "      <th>88</th>\n",
       "      <td>2015</td>\n",
       "      <td>Moonlight</td>\n",
       "      <td>1.0</td>\n",
       "      <td>Star Wars: The Force Awakens</td>\n",
       "      <td>3.0</td>\n",
       "    </tr>\n",
       "    <tr>\n",
       "      <th>89</th>\n",
       "      <td>2016</td>\n",
       "      <td>The Shape of Water</td>\n",
       "      <td>3.0</td>\n",
       "      <td>Captain America: Civil War</td>\n",
       "      <td>3.0</td>\n",
       "    </tr>\n",
       "    <tr>\n",
       "      <th>90</th>\n",
       "      <td>2017</td>\n",
       "      <td>Green Book</td>\n",
       "      <td>1.0</td>\n",
       "      <td>Star Wars: The Last Jedi</td>\n",
       "      <td>3.0</td>\n",
       "    </tr>\n",
       "    <tr>\n",
       "      <th>91</th>\n",
       "      <td>2018</td>\n",
       "      <td>Parasite</td>\n",
       "      <td>3.0</td>\n",
       "      <td>Avengers: Infinity War</td>\n",
       "      <td>3.0</td>\n",
       "    </tr>\n",
       "  </tbody>\n",
       "</table>\n",
       "<p>73 rows × 5 columns</p>\n",
       "</div>"
      ],
      "text/plain": [
       "    Year                    Best Picture  Best Picture Bechdel  \\\n",
       "2   1929  All Quiet on the Western Front                   0.0   \n",
       "4   1931                     Grand Hotel                   3.0   \n",
       "5   1932                       Cavalcade                   3.0   \n",
       "6   1933           It Happened One Night                   3.0   \n",
       "7   1934            Mutiny on the Bounty                   1.0   \n",
       "..   ...                             ...                   ...   \n",
       "87  2014                       Spotlight                   1.0   \n",
       "88  2015                       Moonlight                   1.0   \n",
       "89  2016              The Shape of Water                   3.0   \n",
       "90  2017                      Green Book                   1.0   \n",
       "91  2018                        Parasite                   3.0   \n",
       "\n",
       "                        Top Grosser  Top Grosser Bechdel  \n",
       "2               The Broadway Melody                  3.0  \n",
       "4                      Frankenstein                  1.0  \n",
       "5                       Grand Hotel                  3.0  \n",
       "6                         King Kong                  0.0  \n",
       "7         The Man Who Knew Too Much                  2.0  \n",
       "..                              ...                  ...  \n",
       "87  Transformers: Age of Extinction                  3.0  \n",
       "88     Star Wars: The Force Awakens                  3.0  \n",
       "89       Captain America: Civil War                  3.0  \n",
       "90         Star Wars: The Last Jedi                  3.0  \n",
       "91           Avengers: Infinity War                  3.0  \n",
       "\n",
       "[73 rows x 5 columns]"
      ]
     },
     "execution_count": 47,
     "metadata": {},
     "output_type": "execute_result"
    }
   ],
   "source": [
    "# All Bechdel scores Data Frame\n",
    "bechdel_scores_df = pd.DataFrame({\n",
    "    \"Year\": topgross_bechdel_df[\"Year\"],\n",
    "    \"Best Picture\": award_bechdel_df[\"Movie Title\"],\n",
    "    \"Best Picture Bechdel\": award_bechdel_df[\"Bechdel Score\"],\n",
    "    \"Top Grosser\": topgross_bechdel_df[\"Movie Title\"],\n",
    "    \"Top Grosser Bechdel\": topgross_bechdel_df[\"Bechdel Score\"], \n",
    "})\n",
    "bechdel_scores_df = bechdel_scores_df.dropna()\n",
    "bechdel_scores_df = bechdel_scores_df.drop(bechdel_scores_df[bechdel_scores_df[\"Best Picture Bechdel\"] == \"Unknown\"].index)\n",
    "bechdel_scores_df = bechdel_scores_df.drop(bechdel_scores_df[bechdel_scores_df[\"Top Grosser Bechdel\"] == \"Unknown\"].index)\n",
    "bechdel_scores_df[\"Best Picture Bechdel\"] = pd.to_numeric(bechdel_scores_df[\"Best Picture Bechdel\"], downcast = \"float\")\n",
    "bechdel_scores_df[\"Top Grosser Bechdel\"] = pd.to_numeric(bechdel_scores_df[\"Top Grosser Bechdel\"], downcast = \"float\")\n",
    "bechdel_scores_df"
   ]
  },
  {
   "cell_type": "code",
   "execution_count": 77,
   "metadata": {},
   "outputs": [
    {
     "data": {
      "image/png": "[encoded data removed]",
      "text/plain": [
       "<Figure size 720x2160 with 1 Axes>"
      ]
     },
     "metadata": {
      "needs_background": "light"
     },
     "output_type": "display_data"
    }
   ],
   "source": [
    "bechdel_scores_df.plot('Year',['Best Picture Bechdel', 'Top Grosser Bechdel'], kind = 'barh',figsize = (10,30))\n",
    "plt.legend(loc=\"upper right\")\n",
    "plt.ylabel('Bechdel Score')\n",
    "plt.title('Bechdel Score by Year: Best Picture vs. Top Grosser')\n",
    "plt.show()"
   ]
  },
  {
   "cell_type": "code",
   "execution_count": 81,
   "metadata": {},
   "outputs": [
    {
     "data": {
      "image/png": "[encoded data removed]",
      "text/plain": [
       "<Figure size 432x288 with 1 Axes>"
      ]
     },
     "metadata": {
      "needs_background": "light"
     },
     "output_type": "display_data"
    }
   ],
   "source": [
    "plt.plot(award_bechdel_df['year'], award_bechdel_df['Bechdel Score'], label = 'Best Picture')\n",
    "\n",
    "plt.plot(topgross_bechdel_df['Year'], topgross_bechdel_df['Bechdel Score'], label = 'Top Grosser')\n",
    "\n",
    "plt.xlabel('Year')\n",
    "plt.ylabel('Bechdel Score')\n",
    "plt.title('Top Film Bechdel Scores Across the Years')\n",
    "plt.legend(loc = 'best')\n",
    "\n",
    "# plt.tight_layout()\n",
    "\n",
    "plt.show()"
   ]
  },
  {
   "cell_type": "code",
   "execution_count": 58,
   "metadata": {},
   "outputs": [
    {
     "data": {
      "text/plain": [
       "3.0    35\n",
       "1.0    28\n",
       "2.0     5\n",
       "0.0     5\n",
       "Name: Best Picture Bechdel, dtype: int64"
      ]
     },
     "execution_count": 58,
     "metadata": {},
     "output_type": "execute_result"
    }
   ],
   "source": [
    "award_bechdel_count_no_unknowns = bechdel_scores_df[\"Best Picture Bechdel\"].value_counts()\n",
    "award_bechdel_count_no_unknowns"
   ]
  },
  {
   "cell_type": "code",
   "execution_count": 59,
   "metadata": {},
   "outputs": [
    {
     "data": {
      "text/plain": [
       "3.0    35\n",
       "1.0    20\n",
       "2.0     9\n",
       "0.0     9\n",
       "Name: Top Grosser Bechdel, dtype: int64"
      ]
     },
     "execution_count": 59,
     "metadata": {},
     "output_type": "execute_result"
    }
   ],
   "source": [
    "topgrosser_bechdel_count_no_unknowns = bechdel_scores_df[\"Top Grosser Bechdel\"].value_counts()\n",
    "topgrosser_bechdel_count_no_unknowns"
   ]
  },
  {
   "cell_type": "code",
   "execution_count": 60,
   "metadata": {},
   "outputs": [
    {
     "data": {
      "text/html": [
       "<div>\n",
       "<style scoped>\n",
       "    .dataframe tbody tr th:only-of-type {\n",
       "        vertical-align: middle;\n",
       "    }\n",
       "\n",
       "    .dataframe tbody tr th {\n",
       "        vertical-align: top;\n",
       "    }\n",
       "\n",
       "    .dataframe thead th {\n",
       "        text-align: right;\n",
       "    }\n",
       "</style>\n",
       "<table border=\"1\" class=\"dataframe\">\n",
       "  <thead>\n",
       "    <tr style=\"text-align: right;\">\n",
       "      <th></th>\n",
       "      <th>0</th>\n",
       "      <th>1</th>\n",
       "      <th>2</th>\n",
       "      <th>3</th>\n",
       "    </tr>\n",
       "  </thead>\n",
       "  <tbody>\n",
       "    <tr>\n",
       "      <th>Best Picture</th>\n",
       "      <td>5</td>\n",
       "      <td>28</td>\n",
       "      <td>5</td>\n",
       "      <td>35</td>\n",
       "    </tr>\n",
       "    <tr>\n",
       "      <th>Top Grosser</th>\n",
       "      <td>9</td>\n",
       "      <td>20</td>\n",
       "      <td>9</td>\n",
       "      <td>35</td>\n",
       "    </tr>\n",
       "  </tbody>\n",
       "</table>\n",
       "</div>"
      ],
      "text/plain": [
       "              0   1  2   3\n",
       "Best Picture  5  28  5  35\n",
       "Top Grosser   9  20  9  35"
      ]
     },
     "execution_count": 60,
     "metadata": {},
     "output_type": "execute_result"
    }
   ],
   "source": [
    "plotdata = pd.DataFrame({\n",
    "    \"0\":[5,9],\n",
    "    \"1\":[28,20],\n",
    "    \"2\":[5,9],\n",
    "    \"3\":[35,35],\n",
    "    }, index = [\"Best Picture\", \"Top Grosser\"]\n",
    ")\n",
    "plotdata"
   ]
  },
  {
   "cell_type": "code",
   "execution_count": 61,
   "metadata": {},
   "outputs": [
    {
     "data": {
      "image/png": "[encoded data removed]",
      "text/plain": [
       "<Figure size 432x288 with 1 Axes>"
      ]
     },
     "metadata": {
      "needs_background": "light"
     },
     "output_type": "display_data"
    }
   ],
   "source": [
    "stacked_data = plotdata.apply(lambda x: x*100/sum(x), axis=1)\n",
    "stacked_data.plot(kind=\"barh\", stacked=True)\n",
    "plt.legend(loc='center left', bbox_to_anchor=(1.0, 0.5))\n",
    "plt.title(\"Bechdel Score Breakdown\")\n",
    "plt.xlabel(\"Percentage of Films by Score (%)\")\n",
    "plt.ylabel(\"Film Type\")\n",
    "plt.show()"
   ]
  },
  {
   "cell_type": "code",
   "execution_count": null,
   "metadata": {},
   "outputs": [],
   "source": []
  }
 ],
 "metadata": {
  "kernelspec": {
   "display_name": "Python 3",
   "language": "python",
   "name": "python3"
  },
  "language_info": {
   "codemirror_mode": {
    "name": "ipython",
    "version": 3
   },
   "file_extension": ".py",
   "mimetype": "text/x-python",
   "name": "python",
   "nbconvert_exporter": "python",
   "pygments_lexer": "ipython3",
   "version": "3.7.6"
  }
 },
 "nbformat": 4,
 "nbformat_minor": 4
}
